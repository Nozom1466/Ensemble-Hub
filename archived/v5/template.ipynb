{
 "cells": [
  {
   "metadata": {
    "ExecuteTime": {
     "end_time": "2025-05-07T06:27:19.218393Z",
     "start_time": "2025-05-07T06:27:10.690067Z"
    }
   },
   "cell_type": "code",
   "source": [
    "from transformers import AutoTokenizer\n",
    "from v4.data.template import get_template_and_fix_tokenizer\n",
    "from v4.hparams import DataArguments\n",
    "from v4.data.converter import AlpacaDatasetConverter\n",
    "from types import SimpleNamespace\n",
    "\n",
    "# 1. 初始化 tokenizer（确保路径和你的模型一致）\n",
    "tokenizer = AutoTokenizer.from_pretrained(\"Qwen/Qwen2.5-Math-1.5B-Instruct\")\n",
    "\n",
    "# 2. 指定使用的模板，比如 \"chatml\", \"llama2\", \"qwen\", 等等\n",
    "data_args = DataArguments(template=\"qwen\")\n",
    "\n",
    "# 3. 为 converter 构造一个简化版 DatasetAttr（只要字段对应上即可）\n",
    "dataset_attr = SimpleNamespace(\n",
    "    prompt=\"instruction\",\n",
    "    query=\"input\",\n",
    "    response=\"output\",\n",
    "    history=None,\n",
    "    kto_tag=None,\n",
    "    ranking=False,\n",
    "    chosen=None,\n",
    "    rejected=None,\n",
    "    system=None,\n",
    "    tools=None,\n",
    "    images=None,\n",
    "    videos=None,\n",
    "    audios=None,\n",
    "    load_from=\"file\",\n",
    "    formatting=\"alpaca\",\n",
    ")\n",
    "\n",
    "# DataArguments 这里只为 media_dir 占位\n",
    "converter = AlpacaDatasetConverter(dataset_attr=dataset_attr, data_args=data_args)"
   ],
   "id": "680f57f99fecccbe",
   "outputs": [],
   "execution_count": 5
  },
  {
   "metadata": {
    "ExecuteTime": {
     "end_time": "2025-05-07T06:27:22.668076Z",
     "start_time": "2025-05-07T06:27:22.660516Z"
    }
   },
   "cell_type": "code",
   "source": [
    "import pprint\n",
    "\n",
    "# 你的原始样本\n",
    "sample = {\n",
    "    \"instruction\": \"Solve the following math problem step by step. Write your reasoning clearly using LaTeX. Box the final answer using \\\\boxed{}.\",\n",
    "    \"input\": \"Transform the following sentence using a synonym: The car sped quickly.\",\n",
    "    \"output\": \"The car accelerated rapidly.\"\n",
    "}\n",
    "\n",
    "# 执行转换\n",
    "converted = converter(sample)\n",
    "\n",
    "print(\"---- 转换后格式（converted） ----\")\n",
    "pprint.pprint(converted)\n",
    "\n",
    "# 3. 获取模板并修复 tokenizer 的特殊 token\n",
    "template = get_template_and_fix_tokenizer(tokenizer, data_args)\n",
    "\n",
    "# converted[\"_prompt\"] 是一个列表，列表里每两个元素为 user/assistant 交替\n",
    "prompt_msgs = converted[\"_prompt\"]\n",
    "response_msgs = converted[\"_response\"]\n",
    "\n",
    "# 合并成 messages\n",
    "messages = prompt_msgs + response_msgs\n",
    "\n",
    "print(\"---- messages ----\")\n",
    "pprint.pprint(messages)\n",
    "\n",
    "# encode_oneturn 会把 messages 里的 user/assistant 按 template 转成 token_ids\n",
    "prompt_ids, response_ids = template.encode_oneturn(tokenizer, messages)\n",
    "\n",
    "print(\"\\n✅ 编码完成！\")"
   ],
   "id": "6feaa7bb64efdd90",
   "outputs": [
    {
     "name": "stdout",
     "output_type": "stream",
     "text": [
      "---- 转换后格式（converted） ----\n",
      "{'_audios': None,\n",
      " '_images': None,\n",
      " '_prompt': [{'content': 'Solve the following math problem step by step. Write '\n",
      "                         'your reasoning clearly using LaTeX. Box the final '\n",
      "                         'answer using \\\\boxed{}.\\n'\n",
      "                         'Transform the following sentence using a synonym: '\n",
      "                         'The car sped quickly.',\n",
      "              'role': 'user'}],\n",
      " '_response': [{'content': 'The car accelerated rapidly.',\n",
      "                'role': 'assistant'}],\n",
      " '_system': '',\n",
      " '_tools': '',\n",
      " '_videos': None}\n",
      "---- messages ----\n",
      "[{'content': 'Solve the following math problem step by step. Write your '\n",
      "             'reasoning clearly using LaTeX. Box the final answer using '\n",
      "             '\\\\boxed{}.\\n'\n",
      "             'Transform the following sentence using a synonym: The car sped '\n",
      "             'quickly.',\n",
      "  'role': 'user'},\n",
      " {'content': 'The car accelerated rapidly.', 'role': 'assistant'}]\n",
      "\n",
      "✅ 编码完成！\n"
     ]
    }
   ],
   "execution_count": 6
  },
  {
   "metadata": {
    "ExecuteTime": {
     "end_time": "2025-05-07T06:27:23.226041Z",
     "start_time": "2025-05-07T06:27:23.221376Z"
    }
   },
   "cell_type": "code",
   "source": "prompt_ids",
   "id": "14d0f6ff933297",
   "outputs": [
    {
     "data": {
      "text/plain": [
       "[151644,\n",
       " 8948,\n",
       " 198,\n",
       " 2610,\n",
       " 525,\n",
       " 1207,\n",
       " 16948,\n",
       " 11,\n",
       " 3465,\n",
       " 553,\n",
       " 54364,\n",
       " 14817,\n",
       " 13,\n",
       " 1446,\n",
       " 525,\n",
       " 264,\n",
       " 10950,\n",
       " 17847,\n",
       " 13,\n",
       " 151645,\n",
       " 198,\n",
       " 151644,\n",
       " 872,\n",
       " 198,\n",
       " 50,\n",
       " 3948,\n",
       " 279,\n",
       " 2701,\n",
       " 6888,\n",
       " 3491,\n",
       " 3019,\n",
       " 553,\n",
       " 3019,\n",
       " 13,\n",
       " 9645,\n",
       " 697,\n",
       " 32711,\n",
       " 9355,\n",
       " 1667,\n",
       " 97913,\n",
       " 13,\n",
       " 8261,\n",
       " 279,\n",
       " 1590,\n",
       " 4226,\n",
       " 1667,\n",
       " 1124,\n",
       " 79075,\n",
       " 6257,\n",
       " 624,\n",
       " 8963,\n",
       " 279,\n",
       " 2701,\n",
       " 11652,\n",
       " 1667,\n",
       " 264,\n",
       " 73350,\n",
       " 25,\n",
       " 576,\n",
       " 1803,\n",
       " 85610,\n",
       " 6157,\n",
       " 13,\n",
       " 151645,\n",
       " 198,\n",
       " 151644,\n",
       " 77091,\n",
       " 198]"
      ]
     },
     "execution_count": 7,
     "metadata": {},
     "output_type": "execute_result"
    }
   ],
   "execution_count": 7
  },
  {
   "metadata": {
    "ExecuteTime": {
     "end_time": "2025-05-07T03:20:09.639259Z",
     "start_time": "2025-05-07T03:20:09.635713Z"
    }
   },
   "cell_type": "code",
   "source": [
    "# %% [code]\n",
    "print(\"—— Prompt 解码 ——\")\n",
    "print(tokenizer.decode(prompt_ids, skip_special_tokens=False))\n",
    "\n",
    "print(\"\\n—— Response 解码 ——\")\n",
    "print(tokenizer.decode(response_ids, skip_special_tokens=False))\n"
   ],
   "id": "bca3d4e2d8ec4a48",
   "outputs": [
    {
     "name": "stdout",
     "output_type": "stream",
     "text": [
      "—— Prompt 解码 ——\n",
      "<|im_start|>system\n",
      "You are Qwen, created by Alibaba Cloud. You are a helpful assistant.<|im_end|>\n",
      "<|im_start|>user\n",
      "Solve the following math problem step by step. Write your reasoning clearly using LaTeX. Box the final answer using \\boxed{}.\n",
      "Transform the following sentence using a synonym: The car sped quickly.<|im_end|>\n",
      "<|im_start|>assistant\n",
      "\n",
      "\n",
      "—— Response 解码 ——\n",
      "The car accelerated rapidly.<|im_end|>\n",
      "\n"
     ]
    }
   ],
   "execution_count": 9
  },
  {
   "metadata": {},
   "cell_type": "code",
   "outputs": [],
   "execution_count": null,
   "source": "",
   "id": "923c2daad5ba66d5"
  }
 ],
 "metadata": {
  "kernelspec": {
   "display_name": "Python 3",
   "language": "python",
   "name": "python3"
  },
  "language_info": {
   "codemirror_mode": {
    "name": "ipython",
    "version": 2
   },
   "file_extension": ".py",
   "mimetype": "text/x-python",
   "name": "python",
   "nbconvert_exporter": "python",
   "pygments_lexer": "ipython2",
   "version": "2.7.6"
  }
 },
 "nbformat": 4,
 "nbformat_minor": 5
}
